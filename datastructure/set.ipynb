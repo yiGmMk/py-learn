{
 "cells": [
  {
   "cell_type": "code",
   "execution_count": 4,
   "metadata": {},
   "outputs": [
    {
     "name": "stdout",
     "output_type": "stream",
     "text": [
      "{'d', 'c', 'a', 'b', 'e'}\n",
      "{'d', 'g', 'f', 'c', 'a', 'b', 'e'}\n",
      "ss-s:     {'f', 'g'}\n",
      "ss|s:     {'d', 'g', 'f', 'c', 'a', 'b', 'e'}\n",
      "ss&s:     {'d', 'c', 'a', 'b', 'e'}\n",
      "ss^s:     {'f', 'g'}\n"
     ]
    }
   ],
   "source": [
    "# 创建集合用花括号或 set() 函数。注意，创建空集合只能用 set()，不能用 {}，{} 创建的是空字典\n",
    "\n",
    "\n",
    "s=set(\"abcde\")\n",
    "print(s)\n",
    "\n",
    "ss=set(\"abcdeefggggggg\")\n",
    "print(ss)\n",
    "\n",
    "print(\"ss-s:    \",ss-s)\n",
    "print(\"ss|s:    \",ss|s)\n",
    "print(\"ss&s:    \",ss&s)\n",
    "print(\"ss^s:    \",ss^s)"
   ]
  },
  {
   "cell_type": "code",
   "execution_count": 5,
   "metadata": {},
   "outputs": [
    {
     "name": "stdout",
     "output_type": "stream",
     "text": [
      "{'c', 'a', 'b'}\n"
     ]
    }
   ],
   "source": [
    "a={x for x in \"abcdeabcde\" if x not in \"de\"}\n",
    "print(a)"
   ]
  }
 ],
 "metadata": {
  "kernelspec": {
   "display_name": "Python 3",
   "language": "python",
   "name": "python3"
  },
  "language_info": {
   "codemirror_mode": {
    "name": "ipython",
    "version": 3
   },
   "file_extension": ".py",
   "mimetype": "text/x-python",
   "name": "python",
   "nbconvert_exporter": "python",
   "pygments_lexer": "ipython3",
   "version": "3.8.6"
  },
  "orig_nbformat": 4
 },
 "nbformat": 4,
 "nbformat_minor": 2
}
