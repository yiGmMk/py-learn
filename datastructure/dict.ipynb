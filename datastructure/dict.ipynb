{
 "cells": [
  {
   "cell_type": "code",
   "execution_count": 2,
   "metadata": {},
   "outputs": [
    {
     "name": "stdout",
     "output_type": "stream",
     "text": [
      "{'age': 10, 'name': 'jack'}\n",
      "{'age': 10, 'name': 'jack', 'salary': 100}\n",
      "{'name': 'jack', 'salary': 100}\n"
     ]
    },
    {
     "data": {
      "text/plain": [
       "['name', 'salary']"
      ]
     },
     "execution_count": 2,
     "metadata": {},
     "output_type": "execute_result"
    }
   ],
   "source": [
    "# 字典 dict https://docs.python.org/zh-cn/3.11/tutorial/datastructures.html#dictionaries\n",
    "\n",
    "\n",
    "d={\"age\":10,\"name\":\"jack\"}\n",
    "print(d)\n",
    "\n",
    "\n",
    "d[\"salary\"]=100\n",
    "print(d)\n",
    "\n",
    "\n",
    "del d[\"age\"]\n",
    "print(d)\n",
    "\n",
    "sorted(d)"
   ]
  },
  {
   "cell_type": "code",
   "execution_count": null,
   "metadata": {},
   "outputs": [],
   "source": []
  }
 ],
 "metadata": {
  "kernelspec": {
   "display_name": "Python 3",
   "language": "python",
   "name": "python3"
  },
  "language_info": {
   "codemirror_mode": {
    "name": "ipython",
    "version": 3
   },
   "file_extension": ".py",
   "mimetype": "text/x-python",
   "name": "python",
   "nbconvert_exporter": "python",
   "pygments_lexer": "ipython3",
   "version": "3.8.6"
  },
  "orig_nbformat": 4
 },
 "nbformat": 4,
 "nbformat_minor": 2
}
