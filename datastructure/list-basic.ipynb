{
 "cells": [
  {
   "cell_type": "code",
   "execution_count": 12,
   "metadata": {},
   "outputs": [],
   "source": [
    "import collections\n",
    "import matplotlib.pyplot as plt\n",
    "import numpy as np"
   ]
  },
  {
   "cell_type": "code",
   "execution_count": 47,
   "metadata": {},
   "outputs": [
    {
     "name": "stdout",
     "output_type": "stream",
     "text": [
      "[99, 98, 97, 96, 95, 94, 93, 92, 91, 90, 89, 88, 87, 86, 85, 84, 83, 82, 81, 80, 79, 78, 77, 76, 75, 74, 73, 72, 71, 70, 69, 68, 67, 66, 65, 64, 63, 62, 61, 60, 59, 58, 57, 56, 55, 54, 53, 52, 51, 50, 49, 48, 47, 46, 45, 44, 43, 42, 41, 40, 39, 38, 37, 36, 35, 34, 33, 32, 31, 30, 29, 28, 27, 26, 25, 24, 23, 22, 21, 20, 19, 18, 17, 16, 15, 14, 13, 12, 11, 10, 9, 8, 7, 6, 5, 4, 3, 2, 1]\n",
      "[1, 2, 3, 4, 5, 6, 7, 8, 9, 10, 11, 12, 13, 14, 15, 16, 17, 18, 19, 20, 21, 22, 23, 24, 25, 26, 27, 28, 29, 30, 31, 32, 33, 34, 35, 36, 37, 38, 39, 40, 41, 42, 43, 44, 45, 46, 47, 48, 49, 50, 51, 52, 53, 54, 55, 56, 57, 58, 59, 60, 61, 62, 63, 64, 65, 66, 67, 68, 69, 70, 71, 72, 73, 74, 75, 76, 77, 78, 79, 80, 81, 82, 83, 84, 85, 86, 87, 88, 89, 90, 91, 92, 93, 94, 95, 96, 97, 98, 99]\n",
      "pos of 50=49,50\n"
     ]
    }
   ],
   "source": [
    "from bisect import bisect_left \n",
    "\n",
    "x=[i for i in range(1,100)]\n",
    "x.reverse()\n",
    "print(x)\n",
    "\n",
    "x.sort()\n",
    "\n",
    "id=bisect_left(x,50)\n",
    "print(x)\n",
    "print(\"pos of %d=%d,%d\"%(50,id,x[id]))\n"
   ]
  },
  {
   "cell_type": "code",
   "execution_count": 60,
   "metadata": {},
   "outputs": [
    {
     "name": "stdout",
     "output_type": "stream",
     "text": [
      "count= 22 [1, 2, 3, 4, 5, 6, 7, 8, 9, 10, 11, 12, 13, 14, 15, 16, 17, 18, 19, 1, 2, 4]\n",
      "计数: 1 num=2\n"
     ]
    },
    {
     "data": {
      "image/png": "[encoded data removed]",
      "text/plain": [
       "<Figure size 640x480 with 1 Axes>"
      ]
     },
     "metadata": {},
     "output_type": "display_data"
    }
   ],
   "source": [
    "x=[i for i in range(1,20)]\n",
    "x.append(1)\n",
    "x.append(2)\n",
    "x.append(4)\n",
    "\n",
    "print(\"count=\",len(x),x)\n",
    "print('计数: %d num=%d' % (1,x.count(1)))\n",
    "\n",
    "y=x\n",
    "\n",
    "plt.rcParams['font.sans-serif']=['SimHei']\n",
    "plt.title(\"list/列表\")\n",
    "\n",
    "plt.bar(x,y)\n",
    "plt.show()\n"
   ]
  },
  {
   "cell_type": "code",
   "execution_count": 2,
   "metadata": {},
   "outputs": [
    {
     "name": "stdout",
     "output_type": "stream",
     "text": [
      "['apple', 'banana']\n",
      "['banana']\n",
      "[]\n"
     ]
    }
   ],
   "source": [
    "# ---------------del-------------------\n",
    "fruits=[\"apple\",\"banana\"]\n",
    "print(fruits)\n",
    "\n",
    "del fruits[0]\n",
    "print(fruits)\n",
    "\n",
    "fruits.pop()\n",
    "print(fruits)\n"
   ]
  },
  {
   "cell_type": "code",
   "execution_count": 8,
   "metadata": {},
   "outputs": [
    {
     "name": "stdout",
     "output_type": "stream",
     "text": [
      "deque([1, 2, 3, 4, 0, 5])\n",
      "pop:      deque([1, 2, 3, 4, 0])\n",
      "pop left: deque([2, 3, 4, 0])\n"
     ]
    }
   ],
   "source": [
    "# -----队列 deque----------------\n",
    "\n",
    "from collections import deque\n",
    "queue=deque([1,2,3,4])\n",
    "queue.append(0)\n",
    "queue.append(5)\n",
    "print(queue)\n",
    "\n",
    "#----\n",
    "queue.pop()\n",
    "print(\"pop:     \" ,queue)\n",
    "\n",
    "#----\n",
    "queue.popleft()\n",
    "print(\"pop left:\" ,queue)"
   ]
  },
  {
   "cell_type": "code",
   "execution_count": 9,
   "metadata": {},
   "outputs": [
    {
     "name": "stdout",
     "output_type": "stream",
     "text": [
      "squares: [1, 4, 9, 16, 25, 36, 49, 64, 81]\n"
     ]
    }
   ],
   "source": [
    "squares=[]\n",
    "for x in range(1,10):\n",
    "    squares.append(x**2)\n",
    "# squares=[x**2 for x in range(10)]\n",
    "# squares = list(map(lambda x: x**2, range(10)))\n",
    "print(\"squares:\",squares)"
   ]
  }
 ],
 "metadata": {
  "kernelspec": {
   "display_name": "Python 3",
   "language": "python",
   "name": "python3"
  },
  "language_info": {
   "codemirror_mode": {
    "name": "ipython",
    "version": 3
   },
   "file_extension": ".py",
   "mimetype": "text/x-python",
   "name": "python",
   "nbconvert_exporter": "python",
   "pygments_lexer": "ipython3",
   "version": "3.8.6"
  },
  "orig_nbformat": 4
 },
 "nbformat": 4,
 "nbformat_minor": 2
}
