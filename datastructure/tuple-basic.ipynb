{
 "cells": [
  {
   "cell_type": "code",
   "execution_count": 4,
   "metadata": {},
   "outputs": [
    {
     "name": "stdout",
     "output_type": "stream",
     "text": [
      "(1, 2, 345, '678', '910')\n",
      "empty= ()\n"
     ]
    }
   ],
   "source": [
    "# tuple\n",
    "# tuple vs list:\n",
    "# 元组是 immutable （不可变的），一般可包含异质元素序列，通过解包（见本节下文）或索引访问（如果是 namedtuples，可以属性访问）。\n",
    "# 列表是 mutable （可变的），列表元素一般为同质类型，可迭代访问。\n",
    "\n",
    "t=1,2,345,\"678\",\"910\"\n",
    "\n",
    "print(t)\n",
    "\n",
    "empty=()\n",
    "print(\"empty=\",empty)"
   ]
  },
  {
   "cell_type": "code",
   "execution_count": null,
   "metadata": {},
   "outputs": [],
   "source": []
  }
 ],
 "metadata": {
  "kernelspec": {
   "display_name": "Python 3",
   "language": "python",
   "name": "python3"
  },
  "language_info": {
   "codemirror_mode": {
    "name": "ipython",
    "version": 3
   },
   "file_extension": ".py",
   "mimetype": "text/x-python",
   "name": "python",
   "nbconvert_exporter": "python",
   "pygments_lexer": "ipython3",
   "version": "3.8.6"
  },
  "orig_nbformat": 4
 },
 "nbformat": 4,
 "nbformat_minor": 2
}
