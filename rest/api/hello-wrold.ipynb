{
 "cells": [
  {
   "cell_type": "code",
   "execution_count": 1,
   "metadata": {},
   "outputs": [],
   "source": [
    "import mercury as mr"
   ]
  },
  {
   "cell_type": "code",
   "execution_count": 4,
   "metadata": {},
   "outputs": [
    {
     "data": {
      "application/mercury+json": {
       "code_uid": "Text.0.40.15.1-randa87b1d09",
       "disabled": false,
       "hidden": false,
       "label": "What is your name?",
       "model_id": "e0f30e128cae483194e04a918ac7fa55",
       "rows": 1,
       "url_key": "",
       "value": "Piotr",
       "widget": "Text"
      },
      "application/vnd.jupyter.widget-view+json": {
       "model_id": "e0f30e128cae483194e04a918ac7fa55",
       "version_major": 2,
       "version_minor": 0
      },
      "text/plain": [
       "mercury.Text"
      ]
     },
     "metadata": {},
     "output_type": "display_data"
    }
   ],
   "source": [
    "name = mr.Text(value=\"Piotr\", label=\"What is your name?\")"
   ]
  },
  {
   "cell_type": "code",
   "execution_count": 12,
   "metadata": {},
   "outputs": [
    {
     "name": "stdout",
     "output_type": "stream",
     "text": [
      "Hello world\n",
      "\n",
      "\n"
     ]
    },
    {
     "data": {
      "application/mercury+json": {
       "code_uid": "Checkbox.0.40.11.4-rand7180d461",
       "disabled": false,
       "hidden": false,
       "label": "",
       "model_id": "5f56758edd4740f7b9137026727053bc",
       "url_key": "",
       "value": true,
       "widget": "Checkbox"
      },
      "application/vnd.jupyter.widget-view+json": {
       "model_id": "5f56758edd4740f7b9137026727053bc",
       "version_major": 2,
       "version_minor": 0
      },
      "text/plain": [
       "mercury.Checkbox"
      ]
     },
     "metadata": {},
     "output_type": "display_data"
    },
    {
     "data": {
      "text/html": [
       "<div style=\"padding: 20px;\"></div>"
      ],
      "text/plain": [
       "<IPython.core.display.HTML object>"
      ]
     },
     "metadata": {},
     "output_type": "display_data"
    }
   ],
   "source": [
    "print(f\"Hello {name.value}\")\n",
    "\n",
    "\n",
    "mr.Checkbox()\n",
    "mr.Chat()"
   ]
  },
  {
   "cell_type": "code",
   "execution_count": 11,
   "metadata": {},
   "outputs": [
    {
     "data": {
      "application/mercury+json": {
       "allow_download": true,
       "code_uid": "App.0.40.24.1-rand00174af9",
       "continuous_update": true,
       "description": "Static website created from notebook",
       "full_screen": true,
       "model_id": "mercury-app",
       "notify": "{}",
       "output": "app",
       "schedule": "",
       "show_code": false,
       "show_prompt": false,
       "show_sidebar": false,
       "static_notebook": true,
       "title": "Static website",
       "widget": "App"
      },
      "text/html": [
       "<h3>Mercury Application</h3><small>This output won't appear in the web app.</small>"
      ],
      "text/plain": [
       "mercury.App"
      ]
     },
     "metadata": {},
     "output_type": "display_data"
    }
   ],
   "source": [
    "app = mr.App(title=\"Static website\", description=\"Static website created from notebook\",\n",
    "             show_code=False, show_sidebar=False, static_notebook=True)\n",
    "\n"
   ]
  },
  {
   "cell_type": "code",
   "execution_count": null,
   "metadata": {},
   "outputs": [],
   "source": []
  }
 ],
 "metadata": {
  "kernelspec": {
   "display_name": "Python 3",
   "language": "python",
   "name": "python3"
  },
  "language_info": {
   "codemirror_mode": {
    "name": "ipython",
    "version": 3
   },
   "file_extension": ".py",
   "mimetype": "text/x-python",
   "name": "python",
   "nbconvert_exporter": "python",
   "pygments_lexer": "ipython3",
   "version": "3.8.6"
  },
  "orig_nbformat": 4
 },
 "nbformat": 4,
 "nbformat_minor": 2
}
