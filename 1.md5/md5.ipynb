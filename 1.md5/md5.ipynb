{
 "cells": [
  {
   "cell_type": "code",
   "execution_count": 4,
   "metadata": {},
   "outputs": [
    {
     "name": "stdout",
     "output_type": "stream",
     "text": [
      "True\n",
      "e10adc3949ba59abbe56e057f20f883e\n",
      "e10adc3949ba59abbe56e057f20f883e\n"
     ]
    }
   ],
   "source": [
    "import hashlib\n",
    "\n",
    "\"\"\"b' ' 表示这是一个 bytes 对象\"\"\"\n",
    "\n",
    "str='123456'\n",
    "bStr=str.encode('utf-8')\n",
    "bStr1=b'123456'\n",
    "print(bStr1==bStr)\n",
    "\n",
    "print(hashlib.md5(bStr).hexdigest())\n",
    "print(hashlib.md5(bStr1).hexdigest())"
   ]
  }
 ],
 "metadata": {
  "kernelspec": {
   "display_name": "Python 3",
   "language": "python",
   "name": "python3"
  },
  "language_info": {
   "codemirror_mode": {
    "name": "ipython",
    "version": 3
   },
   "file_extension": ".py",
   "mimetype": "text/x-python",
   "name": "python",
   "nbconvert_exporter": "python",
   "pygments_lexer": "ipython3",
   "version": "3.8.6"
  },
  "orig_nbformat": 4
 },
 "nbformat": 4,
 "nbformat_minor": 2
}
